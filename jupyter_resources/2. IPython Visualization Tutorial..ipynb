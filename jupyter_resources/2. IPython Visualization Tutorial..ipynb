﻿{
  "metadata": {
    "name": "2. IPython Visualization Tutorial",
    "kernelspec": {
      "language": "scala",
      "name": "spark2-scala"
    },
    "language_info": {
      "codemirror_mode": "text/x-scala",
      "file_extension": ".scala",
      "mimetype": "text/x-scala",
      "name": "scala",
      "pygments_lexer": "scala"
    }
  },
  "nbformat": 4,
  "nbformat_minor": 2,
  "cells": [
    {
      "cell_type": "markdown",
      "metadata": {},
      "source": "There are many visualization libraries available in python world. Visualization is tremendous useful in notebook enviroment, most of them could be used in Jupyter Notebook. And most of them can also be used in Apache Zeppelin Notebook, but maybe a little difference for some libraries. This tutorial will teach you how to use these popular visualization libraries in Apache Zeppelin. To be noted, you need to use IPython interpreter to make these libraries work in Zeppelin. IPython interpreter is only available starting from Zeppelin 0.8.0.\n\nWe would cover the following visualiztion libraries:\n\n* Matplotlib\n* Pandas\n* Seaborn\n* Plotnine\n* Bokeh\n* Holoviews\n* Altair\n* Plotly"
    },
    {
      "cell_type": "markdown",
      "metadata": {},
      "source": "# Matplotlib\n\nMatplotlib is a Python 2D plotting library which produces publication quality figures in a variety of hardcopy formats and interactive environments across platforms. The usage of Matplotlib in Zeppelin is the same as Jupyter Notebook. The key is to put `%matplotlib inline` before using Matplotlig. Below is one simple example, for more usage of Matplotlib, you can refer this [link](https://matplotlib.org/)."
    },
    {
      "cell_type": "code",
      "execution_count": 2,
      "metadata": {
        "autoscroll": "auto"
      },
      "outputs": [],
      "source": "%python.ipython\n\n%matplotlib inline\n\nimport matplotlib.pyplot as plt\n\nplt.plot([1,4,3,9])\nplt.ylabel(\u0027some numbers\u0027)\nplt.show()\n"
    },
    {
      "cell_type": "markdown",
      "metadata": {},
      "source": "# Pandas\n\nPandas provide high level api for visualization on DataFrame. It uses Matplotlib for its visualization underlying, so the usage is the same as Matplotlib. "
    },
    {
      "cell_type": "code",
      "execution_count": 4,
      "metadata": {
        "autoscroll": "auto"
      },
      "outputs": [],
      "source": "%python.ipython\n\n%matplotlib inline\n\nimport pandas as pd\nimport numpy as np\n\nts \u003d pd.Series(np.random.randn(1000), index\u003dpd.date_range(\u00271/1/2000\u0027, periods\u003d1000))\nts \u003d ts.cumsum()\nts.plot()"
    },
    {
      "cell_type": "markdown",
      "metadata": {},
      "source": "# Seaborn\n\nSeaborn is a Python visualization library based on matplotlib. It provides a high-level interface for drawing attractive statistical graphics. Its usage in Zeppelin is the same as in Jupyter. For seaborn usage please refer this [link](https://seaborn.pydata.org/)\n"
    },
    {
      "cell_type": "code",
      "execution_count": 6,
      "metadata": {
        "autoscroll": "auto"
      },
      "outputs": [],
      "source": "%python.ipython\n\n%matplotlib inline\n\nimport seaborn as sns\nsns.set(style\u003d\"ticks\")\n\n# Load the example dataset for Anscombe\u0027s quartet\ndf \u003d sns.load_dataset(\"anscombe\")\n\n# Show the results of a linear regression within each dataset\nsns.lmplot(x\u003d\"x\", y\u003d\"y\", col\u003d\"dataset\", hue\u003d\"dataset\", data\u003ddf,\n           col_wrap\u003d2, ci\u003dNone, palette\u003d\"muted\", size\u003d4,\n           scatter_kws\u003d{\"s\": 50, \"alpha\": 1})\n"
    },
    {
      "cell_type": "markdown",
      "metadata": {},
      "source": "# Plotnine\n\nplotnine is an implementation of a grammar of graphics in Python, it is based on ggplot2. The grammar allows users to compose plots by explicitly mapping data to the visual objects that make up the plot.\n"
    },
    {
      "cell_type": "code",
      "execution_count": 8,
      "metadata": {
        "autoscroll": "auto"
      },
      "outputs": [],
      "source": "%python.ipython\n\n%matplotlib inline  \n\nfrom plotnine import *\nfrom plotnine.data import mtcars\n\n(ggplot(mtcars, aes(\u0027wt\u0027, \u0027mpg\u0027))\n + geom_point())\n"
    },
    {
      "cell_type": "code",
      "execution_count": 9,
      "metadata": {
        "autoscroll": "auto"
      },
      "outputs": [],
      "source": "%python.ipython\n\n(ggplot(mtcars, aes(\u0027wt\u0027, \u0027mpg\u0027, color\u003d\u0027factor(gear)\u0027))\n + geom_point()\n + stat_smooth(method\u003d\u0027lm\u0027)\n + facet_wrap(\u0027~gear\u0027))"
    },
    {
      "cell_type": "markdown",
      "metadata": {},
      "source": "# bokeh\n\n[Bokeh](https://bokeh.pydata.org/en/latest/) is a Python interactive visualization library that targets modern web browsers for presentation. Its goal is to provide elegant, concise construction of novel graphics in the style of D3.js, and to extend this capability with high-performance interactivity over very large or streaming datasets. Bokeh can help anyone who would like to quickly and easily create interactive plots, dashboards, and data applications.\n\n"
    },
    {
      "cell_type": "code",
      "execution_count": 11,
      "metadata": {
        "autoscroll": "auto"
      },
      "outputs": [],
      "source": "%python.ipython\n\nfrom bokeh.io import output_notebook, show\nfrom bokeh.plotting import figure\n\noutput_notebook()\n\nfig \u003d figure()\nfig.line([1,2], [3,4])\nshow(fig)\n\n"
    },
    {
      "cell_type": "code",
      "execution_count": 12,
      "metadata": {
        "autoscroll": "auto"
      },
      "outputs": [],
      "source": "%python.ipython\n\nfrom bokeh.server.server import Server\nfrom bokeh.application import Application\nfrom bokeh.application.handlers.function import FunctionHandler\nfrom bokeh.plotting import figure, ColumnDataSource\n\ndef make_document(doc):\n    fig \u003d figure(title\u003d\u0027Line plot!\u0027, sizing_mode\u003d\u0027scale_width\u0027)\n    fig.line(x\u003d[1, 2, 3], y\u003d[1, 4, 9])\n\n    doc.title \u003d \"Hello, world!\"\n    doc.add_root(fig)\n\n# Set up the Application\nhandler \u003d FunctionHandler(make_document)\napp \u003d Application(handler)\n\ndoc \u003d app.create_document()\n# notebook_url must be the zeppelin server url\nshow(app, notebook_url\u003d\u0027localhost:18086\u0027)"
    },
    {
      "cell_type": "markdown",
      "metadata": {},
      "source": "# Holoviews\n\nHoloViews is an open-source Python library designed to make data analysis and visualization seamless and simple. With HoloViews, you can usually express what you want to do in very few lines of code, letting you focus on what you are trying to explore and convey, not on the process of plotting. Compared to bokeh, HoloViews is a high level visualization library. Refer this [link](http://holoviews.org/) for more usage tutorial of HoloViews.\n"
    },
    {
      "cell_type": "code",
      "execution_count": 14,
      "metadata": {
        "autoscroll": "auto"
      },
      "outputs": [],
      "source": "%python.ipython\n\nimport logging\nlogging.getLogger(\"params\").setLevel(logging.ERROR)\n\nimport pandas as pd\nimport numpy as np\nimport holoviews as hv\nfrom holoviews import opts\nhv.extension(\u0027bokeh\u0027)\n\nfrom bokeh.plotting import figure\nfrom bokeh.io import show,output_notebook\n\noutput_notebook()\n"
    },
    {
      "cell_type": "code",
      "execution_count": 15,
      "metadata": {
        "autoscroll": "auto"
      },
      "outputs": [],
      "source": "%python.ipython\n\nstation_info \u003d pd.read_csv(\u0027https://raw.githubusercontent.com/holoviz/holoviews/master/examples/assets/station_info.csv\u0027)\nstation_info.head()\n"
    },
    {
      "cell_type": "code",
      "execution_count": 16,
      "metadata": {
        "autoscroll": "auto"
      },
      "outputs": [],
      "source": "%python.ipython\n\nscatter \u003d hv.Scatter(station_info, \u0027services\u0027, \u0027ridership\u0027)\nscatter"
    },
    {
      "cell_type": "code",
      "execution_count": 17,
      "metadata": {
        "autoscroll": "auto"
      },
      "outputs": [],
      "source": "%python.ipython\n\nlayout \u003d scatter + hv.Histogram(np.histogram(station_info[\u0027opened\u0027], bins\u003d24), kdims\u003d[\u0027opened\u0027])\nlayout"
    },
    {
      "cell_type": "markdown",
      "metadata": {},
      "source": "# HvPlot\n\n[HvPlot](https://hvplot.holoviz.org/) is a high-level plotting API for the PyData ecosystem built on HoloViews.\n\n"
    },
    {
      "cell_type": "code",
      "execution_count": 19,
      "metadata": {
        "autoscroll": "auto"
      },
      "outputs": [],
      "source": "%python.ipython\n\nfrom bokeh.io import output_notebook\noutput_notebook()\n\nimport pandas as pd, numpy as np\n\n\nidx \u003d pd.date_range(\u00271/1/2000\u0027, periods\u003d1000)\ndf  \u003d pd.DataFrame(np.random.randn(1000, 4), index\u003didx, columns\u003dlist(\u0027ABCD\u0027)).cumsum()\n\nimport hvplot.pandas\ndf.hvplot()\n"
    },
    {
      "cell_type": "code",
      "execution_count": 20,
      "metadata": {
        "autoscroll": "auto"
      },
      "outputs": [],
      "source": "%python.ipython\n\nfrom hvplot.sample_data import us_crime, airline_flights\n\ncrime \u003d us_crime.read()\nprint(type(crime))\ncrime.hvplot.line(x\u003d\u0027Year\u0027, y\u003d\u0027Violent Crime rate\u0027)\n"
    },
    {
      "cell_type": "code",
      "execution_count": 21,
      "metadata": {
        "autoscroll": "auto"
      },
      "outputs": [],
      "source": "%python.ipython\n\nus_crime.plot.bivariate(\u0027Burglary rate\u0027, \u0027Property crime rate\u0027, legend\u003dFalse, width\u003d500, height\u003d400) * \\\nus_crime.plot.scatter(  \u0027Burglary rate\u0027, \u0027Property crime rate\u0027, color\u003d\u0027black\u0027, size\u003d15, legend\u003dFalse) + \\\nus_crime.plot.table([\u0027Burglary rate\u0027, \u0027Property crime rate\u0027], width\u003d350, height\u003d350)"
    },
    {
      "cell_type": "markdown",
      "metadata": {},
      "source": "# Altair\n\n[Altair](https://altair-viz.github.io/) is a declarative statistical visualization library for Python, based on Vega and Vega-Lite, and the source is available on GitHub.\n\nWith Altair, you can spend more time understanding your data and its meaning. Altair’s API is simple, friendly and consistent and built on top of the powerful Vega-Lite visualization grammar. This elegant simplicity produces beautiful and effective visualizations with a minimal amount of code.\n\nThere\u0027s still one bug in Altair which make altair doesn\u0027t work very well with Zeppelin. The first run may not succeed, after Zeppelin load altair javascript properly, the following run will work.\n\n"
    },
    {
      "cell_type": "code",
      "execution_count": 23,
      "metadata": {
        "autoscroll": "auto"
      },
      "outputs": [],
      "source": "%python.ipython\n\nimport altair as alt\n\nalt.renderers.enable(\u0027zeppelin\u0027)\n\n# load a simple dataset as a pandas DataFrame\nfrom vega_datasets import data\ncars \u003d data.cars()\n\nalt.Chart(cars).mark_point().encode(\n    x\u003d\u0027Horsepower\u0027,\n    y\u003d\u0027Miles_per_Gallon\u0027,\n    color\u003d\u0027Origin\u0027,\n)"
    },
    {
      "cell_type": "code",
      "execution_count": 24,
      "metadata": {
        "autoscroll": "auto"
      },
      "outputs": [],
      "source": "%python.ipython\n\nimport altair as alt\nimport numpy as np\nimport pandas as pd\n\n# Compute x^2 + y^2 across a 2D grid\nx, y \u003d np.meshgrid(range(-5, 5), range(-5, 5))\nz \u003d x ** 2 + y ** 2\n\n# Convert this grid to columnar data expected by Altair\nsource \u003d pd.DataFrame({\u0027x\u0027: x.ravel(),\n                     \u0027y\u0027: y.ravel(),\n                     \u0027z\u0027: z.ravel()})\n\nalt.Chart(source).mark_rect().encode(\n    x\u003d\u0027x:O\u0027,\n    y\u003d\u0027y:O\u0027,\n    color\u003d\u0027z:Q\u0027\n)"
    },
    {
      "cell_type": "markdown",
      "metadata": {},
      "source": "[plotly.py](https://plotly.com/python/) is an interactive, open-source, and browser-based graphing library for Python\n"
    },
    {
      "cell_type": "code",
      "execution_count": 26,
      "metadata": {
        "autoscroll": "auto"
      },
      "outputs": [],
      "source": "%python.ipython\n\nimport plotly.graph_objects as go\nfig \u003d go.Figure()\nfig.add_trace(go.Scatter(y\u003d[2, 1, 4, 3]))\nfig.add_trace(go.Bar(y\u003d[1, 4, 3, 2]))\nfig.update_layout(title \u003d \u0027Hello Figure\u0027)\n\nprint(\"%html {0}\".format(fig.to_html()))\n"
    },
    {
      "cell_type": "code",
      "execution_count": 27,
      "metadata": {
        "autoscroll": "auto"
      },
      "outputs": [],
      "source": "%python.ipython\n"
    }
  ]
}